{
 "cells": [
  {
   "cell_type": "code",
   "execution_count": 4,
   "id": "610437e3",
   "metadata": {},
   "outputs": [],
   "source": [
    "import sys\n",
    "sys.path.append('../')\n",
    "\n",
    "from core.KLineChart import KLineChart\n",
    "# from core.Basic import Basic\n",
    "from core.FundFlow import FundFlow\n",
    "from core.AIndex import AIndex"
   ]
  },
  {
   "cell_type": "code",
   "execution_count": 13,
   "id": "c653c02d",
   "metadata": {},
   "outputs": [
    {
     "data": {
      "text/plain": "<pyecharts.charts.composite_charts.grid.Grid at 0x1465642d0>"
     },
     "execution_count": 13,
     "metadata": {},
     "output_type": "execute_result"
    }
   ],
   "source": [
    "k = KLineChart(\"000960\")\n",
    "# k = KLineChart(\"002230\", start_date='20230117', end_date='20230406')\n",
    "k.plot(\n",
    "    n=20,\n",
    "    area=['V','DKC'],\n",
    "    # width=1000,\n",
    "    # height=600,\n",
    "    klines=['ma5','ma10','ma20','ma60', 'ma120', 'ma250'],\n",
    "    # jxPoints=[[(\"2024-02-21\",18.2), (\"2024-04-12\",18.2)]],\n",
    "    # jxLines=[18.2, 16.5, \"2024-04-12\", \"2024-04-30\"],\n",
    "    is_notebook=False\n",
    ")\n",
    "# k.plot(\n",
    "#     n=20,\n",
    "#     area=['V', 'KL', 'M'],\n",
    "#     width=1000,\n",
    "#     height=600,\n",
    "#     klines=['ma5','ma10','ma20','ma60','boll', 'up', 'down'],\n",
    "#     is_notebook=True\n",
    "# )"
   ]
  },
  {
   "cell_type": "code",
   "execution_count": 14,
   "outputs": [],
   "source": [
    "k.web()"
   ],
   "metadata": {
    "collapsed": false,
    "pycharm": {
     "name": "#%%\n"
    }
   }
  },
  {
   "cell_type": "code",
   "execution_count": null,
   "outputs": [],
   "source": [],
   "metadata": {
    "collapsed": false,
    "pycharm": {
     "name": "#%%\n"
    }
   }
  }
 ],
 "metadata": {
  "kernelspec": {
   "display_name": "fin",
   "language": "python",
   "name": "python3"
  },
  "language_info": {
   "codemirror_mode": {
    "name": "ipython",
    "version": 3
   },
   "file_extension": ".py",
   "mimetype": "text/x-python",
   "name": "python",
   "nbconvert_exporter": "python",
   "pygments_lexer": "ipython3",
   "version": "3.9.18"
  }
 },
 "nbformat": 4,
 "nbformat_minor": 5
}