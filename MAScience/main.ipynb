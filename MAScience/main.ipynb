{
 "cells": [
  {
   "cell_type": "code",
   "execution_count": 9,
   "id": "610437e3",
   "metadata": {},
   "outputs": [
    {
     "name": "stdout",
     "output_type": "stream",
     "text": [
      "The autoreload extension is already loaded. To reload it, use:\n",
      "  %reload_ext autoreload\n"
     ]
    },
    {
     "name": "stderr",
     "output_type": "stream",
     "text": [
      "UsageError: Line magic function `%import` not found.\n"
     ]
    }
   ],
   "source": [
    "import sys\n",
    "sys.path.append('../')\n",
    "\n",
    "\n",
    "import core.KLineChart"
   ]
  },
  {
   "cell_type": "code",
   "execution_count": 10,
   "id": "c653c02d",
   "metadata": {},
   "outputs": [
    {
     "ename": "TypeError",
     "evalue": "plot() got an unexpected keyword argument 'is_notebook'",
     "output_type": "error",
     "traceback": [
      "\u001b[1;31m---------------------------------------------------------------------------\u001b[0m",
      "\u001b[1;31mTypeError\u001b[0m                                 Traceback (most recent call last)",
      "Cell \u001b[1;32mIn[10], line 3\u001b[0m\n\u001b[0;32m      1\u001b[0m k\u001b[39m=\u001b[39mKLineChart(\u001b[39m\"\u001b[39m\u001b[39m002230\u001b[39m\u001b[39m\"\u001b[39m)\n\u001b[0;32m      2\u001b[0m \u001b[39m#k=KLineChart(\"002230\",n=20,start_date='20230117', end_date='20230406')\u001b[39;00m\n\u001b[1;32m----> 3\u001b[0m k\u001b[39m.\u001b[39;49mplot(area\u001b[39m=\u001b[39;49m[\u001b[39m'\u001b[39;49m\u001b[39mV\u001b[39;49m\u001b[39m'\u001b[39;49m,\u001b[39m'\u001b[39;49m\u001b[39mKL\u001b[39;49m\u001b[39m'\u001b[39;49m, \u001b[39m'\u001b[39;49m\u001b[39mM\u001b[39;49m\u001b[39m'\u001b[39;49m], width\u001b[39m=\u001b[39;49m\u001b[39m1000\u001b[39;49m,height\u001b[39m=\u001b[39;49m\u001b[39m600\u001b[39;49m, klines\u001b[39m=\u001b[39;49m[\u001b[39m'\u001b[39;49m\u001b[39mma5\u001b[39;49m\u001b[39m'\u001b[39;49m,\u001b[39m'\u001b[39;49m\u001b[39mma10\u001b[39;49m\u001b[39m'\u001b[39;49m,\u001b[39m'\u001b[39;49m\u001b[39mma20\u001b[39;49m\u001b[39m'\u001b[39;49m,\u001b[39m'\u001b[39;49m\u001b[39mma60\u001b[39;49m\u001b[39m'\u001b[39;49m, \u001b[39m'\u001b[39;49m\u001b[39mma120\u001b[39;49m\u001b[39m'\u001b[39;49m, \u001b[39m'\u001b[39;49m\u001b[39mma250\u001b[39;49m\u001b[39m'\u001b[39;49m], is_notebook\u001b[39m=\u001b[39;49m\u001b[39mTrue\u001b[39;49;00m)\n\u001b[0;32m      4\u001b[0m \u001b[39m# k.plot(area=['V','KL', 'M'], width=1000,height=600,  klines=['ma5','ma10','ma20','ma60','boll', 'up', 'down'])\u001b[39;00m\n",
      "\u001b[1;31mTypeError\u001b[0m: plot() got an unexpected keyword argument 'is_notebook'"
     ]
    }
   ],
   "source": [
    "k=KLineChart(\"002230\")\n",
    "#k=KLineChart(\"002230\",n=20,start_date='20230117', end_date='20230406')\n",
    "k.plot(area=['V','KL', 'M'], width=1000,height=600, klines=['ma5','ma10','ma20','ma60', 'ma120', 'ma250'], is_notebook=True)\n",
    "# k.plot(area=['V','KL', 'M'], width=1000,height=600,  klines=['ma5','ma10','ma20','ma60','boll', 'up', 'down'])"
   ]
  },
  {
   "cell_type": "markdown",
   "id": "58ef7415",
   "metadata": {},
   "source": [
    "BOLL指标上、中、下三轨线的关系\n",
    "\n",
    "1、当布林线的上、中、下轨线同时向上运行时，表明股价的强势特征非常明显，股价短期内将继续上涨，投资者应坚决持股待涨或逢低买入。\n",
    "\n",
    "2、当布林线的上、中、下轨线同时向下运行时，表明股价的弱势特征非常明显，股价短期内将继续下跌，投资者应坚决持币观望或逢高卖出。\n",
    "\n",
    "3、当布林线的上轨线向下运行，而中轨线和下轨线却还在向上运行时，表明股价处于整理态势之中。如果股价是处于长期上升趋势时，则表明股价是上涨途中的强势整理，投资者可以持股观望或逢低短线买入；如果股价是处于长期下跌趋势时，则表明股价是下跌途中的弱势整理，投资者应以持币观望或逢高减仓为主。\n",
    "\n",
    "4、当布林线的上轨线向上运行，而中轨线和下轨线同时向下运行的这种可能性则是非常小。\n",
    "\n",
    "5、当布林线的上、中、下轨线几乎同时处于水平方向横向运行时，则要看股价目前的走势处于什么样的情况来判断。\n",
    "    \n",
    "    （1）当股价前期一直处于长时间的下跌行情后开始出现布林线的三条线横向移动时，表明股价是处于构筑底部阶段，投资者可以开始分批少量建仓，一旦三条线向上发散则可加大买入力度。\n",
    "    \n",
    "    （2）当股价前期是处于小幅上涨行情后开始出现布林线的三条线横向移动，表明股价是处于上升阶段整理行情，投资者可以持股待涨或逢低短线吸纳，一旦三条线向上发散则可短线加码买入。\n",
    "    \n",
    "    （3）当股价刚刚经历一轮大跌行情后开始出现布林线的三条线横向移动，表明股价是处于下跌阶段的整理行情，投资者应以持币观望和逢高减磅为主，一旦三条线向下发散则坚决清仓离场。\n",
    "    \n",
    "    （4）布林线三条线在顶部横向运动的可能性极小。"
   ]
  }
 ],
 "metadata": {
  "kernelspec": {
   "display_name": "fin",
   "language": "python",
   "name": "python3"
  },
  "language_info": {
   "codemirror_mode": {
    "name": "ipython",
    "version": 3
   },
   "file_extension": ".py",
   "mimetype": "text/x-python",
   "name": "python",
   "nbconvert_exporter": "python",
   "pygments_lexer": "ipython3",
   "version": "3.9.18"
  }
 },
 "nbformat": 4,
 "nbformat_minor": 5
}
