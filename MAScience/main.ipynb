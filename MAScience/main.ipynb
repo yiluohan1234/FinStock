{
 "cells": [
  {
   "cell_type": "code",
   "execution_count": 6,
   "id": "610437e3",
   "metadata": {},
   "outputs": [
    {
     "ename": "ModuleNotFoundError",
     "evalue": "No module named 'path'",
     "output_type": "error",
     "traceback": [
      "\u001B[1;31m---------------------------------------------------------------------------\u001B[0m",
      "\u001B[1;31mModuleNotFoundError\u001B[0m                       Traceback (most recent call last)",
      "Cell \u001B[1;32mIn[6], line 2\u001B[0m\n\u001B[0;32m      1\u001B[0m \u001B[38;5;28;01mimport\u001B[39;00m \u001B[38;5;21;01msys\u001B[39;00m\n\u001B[1;32m----> 2\u001B[0m \u001B[38;5;28;01mimport\u001B[39;00m \u001B[38;5;21;01mpath\u001B[39;00m\n\u001B[0;32m      3\u001B[0m folder \u001B[38;5;241m=\u001B[39m path\u001B[38;5;241m.\u001B[39mpath(\u001B[38;5;18m__file__\u001B[39m)\u001B[38;5;241m.\u001B[39mabspath()\n\u001B[0;32m      4\u001B[0m sys\u001B[38;5;241m.\u001B[39mpath\u001B[38;5;241m.\u001B[39mappend(folder\u001B[38;5;241m.\u001B[39mparent)\n",
      "\u001B[1;31mModuleNotFoundError\u001B[0m: No module named 'path'"
     ]
    }
   ],
   "source": [
    "import sys\n",
    "import path\n",
    "folder = path.path(__file__).abspath()\n",
    "sys.path.append(folder.parent)\n",
    "\n",
    "from core.KLineChart import KLineChart\n",
    "from core.Basic import Basic\n",
    "from core.FundFlow import FundFlow\n",
    "from core.AIndex import AIndex"
   ]
  },
  {
   "cell_type": "code",
   "execution_count": 13,
   "id": "c653c02d",
   "metadata": {},
   "outputs": [
    {
     "data": {
      "text/plain": "<pyecharts.charts.composite_charts.grid.Grid at 0x1465642d0>"
     },
     "execution_count": 13,
     "metadata": {},
     "output_type": "execute_result"
    }
   ],
   "source": [
    "k = KLineChart(\"000960\")\n",
    "# k = KLineChart(\"002230\", start_date='20230117', end_date='20230406')\n",
    "k.plot(\n",
    "    n=20,\n",
    "    area=['V','DKC'],\n",
    "    # width=1000,\n",
    "    # height=600,\n",
    "    klines=['ma5','ma10','ma20','ma60', 'ma120', 'ma250'],\n",
    "    # jxPoints=[[(\"2024-02-21\",18.2), (\"2024-04-12\",18.2)]],\n",
    "    # jxLines=[18.2, 16.5, \"2024-04-12\", \"2024-04-30\"],\n",
    "    is_notebook=False\n",
    ")\n",
    "# k.plot(\n",
    "#     n=20,\n",
    "#     area=['V', 'KL', 'M'],\n",
    "#     width=1000,\n",
    "#     height=600,\n",
    "#     klines=['ma5','ma10','ma20','ma60','boll', 'up', 'down'],\n",
    "#     is_notebook=True\n",
    "# )"
   ]
  },
  {
   "cell_type": "code",
   "execution_count": 14,
   "outputs": [],
   "source": [
    "k.web()"
   ],
   "metadata": {
    "collapsed": false,
    "pycharm": {
     "name": "#%%\n"
    }
   }
  },
  {
   "cell_type": "code",
   "execution_count": null,
   "outputs": [],
   "source": [],
   "metadata": {
    "collapsed": false,
    "pycharm": {
     "name": "#%%\n"
    }
   }
  }
 ],
 "metadata": {
  "kernelspec": {
   "display_name": "fin",
   "language": "python",
   "name": "python3"
  },
  "language_info": {
   "codemirror_mode": {
    "name": "ipython",
    "version": 3
   },
   "file_extension": ".py",
   "mimetype": "text/x-python",
   "name": "python",
   "nbconvert_exporter": "python",
   "pygments_lexer": "ipython3",
   "version": "3.9.18"
  }
 },
 "nbformat": 4,
 "nbformat_minor": 5
}