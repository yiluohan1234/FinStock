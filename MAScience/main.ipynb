{
 "cells": [
  {
   "cell_type": "code",
   "execution_count": 1,
   "id": "610437e3",
   "metadata": {},
   "outputs": [
    {
     "name": "stderr",
     "output_type": "stream",
     "text": [
      "/Users/cuiyufei/anaconda3/lib/python3.11/site-packages/akshare/__init__.py:2792: UserWarning: 为了支持更多特性，请将 Pandas 升级到 2.2.0 及以上版本！\n",
      "  warnings.warn(\n"
     ]
    }
   ],
   "source": [
    "import sys\n",
    "import os\n",
    "sys.path.append(os.path.abspath('..'))\n",
    "\n",
    "from core.KLineChart import KLineChart\n",
    "from core.Basic import Basic\n",
    "from core.FundFlow import FundFlow\n",
    "from core.AIndex import AIndex"
   ]
  },
  {
   "cell_type": "code",
   "execution_count": 11,
   "id": "c653c02d",
   "metadata": {},
   "outputs": [
    {
     "data": {
      "text/plain": "<pyecharts.charts.composite_charts.grid.Grid at 0x13d43fd90>"
     },
     "execution_count": 11,
     "metadata": {},
     "output_type": "execute_result"
    }
   ],
   "source": [
    "k = KLineChart(\"000612\")\n",
    "# k = KLineChart(\"002230\", start_date='20230117', end_date='20230406')\n",
    "k.plot(\n",
    "    n=20,\n",
    "    area=['V','DKC'],\n",
    "    width=1400,\n",
    "    height=900,\n",
    "    klines=['ma5','ma10','ma20','ma60', 'ma120', 'ma250'],\n",
    "    # jxPoints=[[(\"2024-02-21\",18.2), (\"2024-04-12\",18.2)]],\n",
    "    # jxLines=[18.2, 16.5, \"2024-04-12\", \"2024-04-30\"],\n",
    "    is_notebook=False\n",
    ")"
   ]
  },
  {
   "cell_type": "code",
   "execution_count": 10,
   "outputs": [],
   "source": [
    "k.web()"
   ],
   "metadata": {
    "collapsed": false,
    "pycharm": {
     "name": "#%%\n"
    }
   }
  },
  {
   "cell_type": "code",
   "execution_count": 5,
   "outputs": [
    {
     "data": {
      "text/plain": "<pyecharts.charts.composite_charts.grid.Grid at 0x13d3b6910>"
     },
     "execution_count": 5,
     "metadata": {},
     "output_type": "execute_result"
    }
   ],
   "source": [
    "k.plot(\n",
    "    n=20,\n",
    "    area=['V', 'KL'],\n",
    "    width=1400,\n",
    "    height=900,\n",
    "    klines=['ene', 'upper', 'lower'],\n",
    "    is_notebook=False\n",
    ")"
   ],
   "metadata": {
    "collapsed": false,
    "pycharm": {
     "name": "#%%\n"
    }
   }
  },
  {
   "cell_type": "code",
   "execution_count": 9,
   "outputs": [
    {
     "data": {
      "text/plain": "<pyecharts.charts.composite_charts.grid.Grid at 0x13d9d7890>"
     },
     "execution_count": 9,
     "metadata": {},
     "output_type": "execute_result"
    }
   ],
   "source": [
    "k.plot(\n",
    "    n=20,\n",
    "    area=['V', 'KL'],\n",
    "    width=1400,\n",
    "    height=900,\n",
    "    klines=['ma5', 'ma10', 'boll', 'up', 'down'],\n",
    "    is_notebook=False\n",
    ")\n"
   ],
   "metadata": {
    "collapsed": false,
    "pycharm": {
     "name": "#%%\n"
    }
   }
  },
  {
   "cell_type": "code",
   "execution_count": 12,
   "outputs": [],
   "source": [
    "f = FundFlow()\n",
    "df, df_display = f.get_individual_fund_flow(\"000612\", 10)"
   ],
   "metadata": {
    "collapsed": false,
    "pycharm": {
     "name": "#%%\n"
    }
   }
  },
  {
   "cell_type": "code",
   "execution_count": 13,
   "outputs": [
    {
     "data": {
      "text/plain": "            2024-05-10  2024-05-09  2024-05-08  2024-05-07  2024-05-06  \\\n收盘价               7.95        8.15         8.2        7.84        7.75   \n涨跌幅              -2.45       -0.61        4.59        1.16        3.47   \n主力净流入-净额    -7810.818万  -4089.704万      1.518亿  -6022.924万   4185.051万   \n主力净流入-净占比       -10.93       -6.17       12.37       -9.51        5.54   \n超大单净流入-净额       -1.03亿  -3938.314万      1.309亿   -3369.91万   8436.063万   \n超大单净流入-净占比       -14.4       -5.94       10.66       -5.32       11.17   \n大单净流入-净额     2484.489万    -151.39万   2092.339万  -2653.014万  -4251.012万   \n大单净流入-净占比         3.48       -0.23         1.7       -4.19       -5.63   \n中单净流入-净额     2315.226万   4808.705万  -6898.824万   1747.946万  -2680.881万   \n中单净流入-净占比         3.24        7.26       -5.62        2.76       -3.55   \n小单净流入-净额     5495.593万   -719.001万  -8278.987万   4274.977万  -1504.169万   \n小单净流入-净占比         7.69       -1.09       -6.75        6.75       -1.99   \n\n            2024-04-30  2024-04-29  2024-04-26  2024-04-25 2024-04-24  \n收盘价               7.49        7.78        7.95         7.9       7.48  \n涨跌幅              -3.73       -2.14        0.63        5.61       3.89  \n主力净流入-净额       -1.626亿  -4783.484万     3130.1万   9919.964万   747.741万  \n主力净流入-净占比       -20.59       -7.94        3.73         9.6       1.34  \n超大单净流入-净额      -1.007亿   -2197.33万     86.658万      1.096亿  1523.447万  \n超大单净流入-净占比      -12.75       -3.65         0.1        10.6       2.73  \n大单净流入-净额    -6196.783万  -2586.154万   3043.442万  -1040.853万  -775.706万  \n大单净流入-净占比        -7.85       -4.29        3.62       -1.01      -1.39  \n中单净流入-净额      5107.89万   2043.489万  -1456.892万  -3120.142万  -216.846万  \n中单净流入-净占比         6.47        3.39       -1.73       -3.02      -0.39  \n小单净流入-净额        1.116亿   2739.995万  -1673.208万  -6799.821万  -530.895万  \n小单净流入-净占比        14.13        4.55       -1.99       -6.58      -0.95  ",
      "text/html": "<div>\n<style scoped>\n    .dataframe tbody tr th:only-of-type {\n        vertical-align: middle;\n    }\n\n    .dataframe tbody tr th {\n        vertical-align: top;\n    }\n\n    .dataframe thead th {\n        text-align: right;\n    }\n</style>\n<table border=\"1\" class=\"dataframe\">\n  <thead>\n    <tr style=\"text-align: right;\">\n      <th></th>\n      <th>2024-05-10</th>\n      <th>2024-05-09</th>\n      <th>2024-05-08</th>\n      <th>2024-05-07</th>\n      <th>2024-05-06</th>\n      <th>2024-04-30</th>\n      <th>2024-04-29</th>\n      <th>2024-04-26</th>\n      <th>2024-04-25</th>\n      <th>2024-04-24</th>\n    </tr>\n  </thead>\n  <tbody>\n    <tr>\n      <th>收盘价</th>\n      <td>7.95</td>\n      <td>8.15</td>\n      <td>8.2</td>\n      <td>7.84</td>\n      <td>7.75</td>\n      <td>7.49</td>\n      <td>7.78</td>\n      <td>7.95</td>\n      <td>7.9</td>\n      <td>7.48</td>\n    </tr>\n    <tr>\n      <th>涨跌幅</th>\n      <td>-2.45</td>\n      <td>-0.61</td>\n      <td>4.59</td>\n      <td>1.16</td>\n      <td>3.47</td>\n      <td>-3.73</td>\n      <td>-2.14</td>\n      <td>0.63</td>\n      <td>5.61</td>\n      <td>3.89</td>\n    </tr>\n    <tr>\n      <th>主力净流入-净额</th>\n      <td>-7810.818万</td>\n      <td>-4089.704万</td>\n      <td>1.518亿</td>\n      <td>-6022.924万</td>\n      <td>4185.051万</td>\n      <td>-1.626亿</td>\n      <td>-4783.484万</td>\n      <td>3130.1万</td>\n      <td>9919.964万</td>\n      <td>747.741万</td>\n    </tr>\n    <tr>\n      <th>主力净流入-净占比</th>\n      <td>-10.93</td>\n      <td>-6.17</td>\n      <td>12.37</td>\n      <td>-9.51</td>\n      <td>5.54</td>\n      <td>-20.59</td>\n      <td>-7.94</td>\n      <td>3.73</td>\n      <td>9.6</td>\n      <td>1.34</td>\n    </tr>\n    <tr>\n      <th>超大单净流入-净额</th>\n      <td>-1.03亿</td>\n      <td>-3938.314万</td>\n      <td>1.309亿</td>\n      <td>-3369.91万</td>\n      <td>8436.063万</td>\n      <td>-1.007亿</td>\n      <td>-2197.33万</td>\n      <td>86.658万</td>\n      <td>1.096亿</td>\n      <td>1523.447万</td>\n    </tr>\n    <tr>\n      <th>超大单净流入-净占比</th>\n      <td>-14.4</td>\n      <td>-5.94</td>\n      <td>10.66</td>\n      <td>-5.32</td>\n      <td>11.17</td>\n      <td>-12.75</td>\n      <td>-3.65</td>\n      <td>0.1</td>\n      <td>10.6</td>\n      <td>2.73</td>\n    </tr>\n    <tr>\n      <th>大单净流入-净额</th>\n      <td>2484.489万</td>\n      <td>-151.39万</td>\n      <td>2092.339万</td>\n      <td>-2653.014万</td>\n      <td>-4251.012万</td>\n      <td>-6196.783万</td>\n      <td>-2586.154万</td>\n      <td>3043.442万</td>\n      <td>-1040.853万</td>\n      <td>-775.706万</td>\n    </tr>\n    <tr>\n      <th>大单净流入-净占比</th>\n      <td>3.48</td>\n      <td>-0.23</td>\n      <td>1.7</td>\n      <td>-4.19</td>\n      <td>-5.63</td>\n      <td>-7.85</td>\n      <td>-4.29</td>\n      <td>3.62</td>\n      <td>-1.01</td>\n      <td>-1.39</td>\n    </tr>\n    <tr>\n      <th>中单净流入-净额</th>\n      <td>2315.226万</td>\n      <td>4808.705万</td>\n      <td>-6898.824万</td>\n      <td>1747.946万</td>\n      <td>-2680.881万</td>\n      <td>5107.89万</td>\n      <td>2043.489万</td>\n      <td>-1456.892万</td>\n      <td>-3120.142万</td>\n      <td>-216.846万</td>\n    </tr>\n    <tr>\n      <th>中单净流入-净占比</th>\n      <td>3.24</td>\n      <td>7.26</td>\n      <td>-5.62</td>\n      <td>2.76</td>\n      <td>-3.55</td>\n      <td>6.47</td>\n      <td>3.39</td>\n      <td>-1.73</td>\n      <td>-3.02</td>\n      <td>-0.39</td>\n    </tr>\n    <tr>\n      <th>小单净流入-净额</th>\n      <td>5495.593万</td>\n      <td>-719.001万</td>\n      <td>-8278.987万</td>\n      <td>4274.977万</td>\n      <td>-1504.169万</td>\n      <td>1.116亿</td>\n      <td>2739.995万</td>\n      <td>-1673.208万</td>\n      <td>-6799.821万</td>\n      <td>-530.895万</td>\n    </tr>\n    <tr>\n      <th>小单净流入-净占比</th>\n      <td>7.69</td>\n      <td>-1.09</td>\n      <td>-6.75</td>\n      <td>6.75</td>\n      <td>-1.99</td>\n      <td>14.13</td>\n      <td>4.55</td>\n      <td>-1.99</td>\n      <td>-6.58</td>\n      <td>-0.95</td>\n    </tr>\n  </tbody>\n</table>\n</div>"
     },
     "execution_count": 13,
     "metadata": {},
     "output_type": "execute_result"
    }
   ],
   "source": [
    "df_display"
   ],
   "metadata": {
    "collapsed": false,
    "pycharm": {
     "name": "#%%\n"
    }
   }
  },
  {
   "cell_type": "code",
   "execution_count": null,
   "outputs": [],
   "source": [
    "\n"
   ],
   "metadata": {
    "collapsed": false,
    "pycharm": {
     "name": "#%%\n"
    }
   }
  }
 ],
 "metadata": {
  "kernelspec": {
   "display_name": "fin",
   "language": "python",
   "name": "python3"
  },
  "language_info": {
   "codemirror_mode": {
    "name": "ipython",
    "version": 3
   },
   "file_extension": ".py",
   "mimetype": "text/x-python",
   "name": "python",
   "nbconvert_exporter": "python",
   "pygments_lexer": "ipython3",
   "version": "3.9.18"
  }
 },
 "nbformat": 4,
 "nbformat_minor": 5
}