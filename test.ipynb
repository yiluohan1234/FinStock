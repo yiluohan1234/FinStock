{
 "cells": [
  {
   "cell_type": "code",
   "execution_count": 4,
   "metadata": {},
   "outputs": [],
   "source": [
    "def str2value(valueStr):\n",
    "    valueStr = str(valueStr)\n",
    "    idxOfYi = valueStr.find('亿')\n",
    "    idxOfWan = valueStr.find('万')\n",
    "    idxOfPercentage = valueStr.find('%')\n",
    "    if idxOfYi != -1 and idxOfWan != -1:\n",
    "        return int(float(valueStr[:idxOfYi])*1e8 + float(valueStr[idxOfYi+1:idxOfWan])*1e4)\n",
    "    elif idxOfYi != -1 and idxOfWan == -1:\n",
    "        return int(float(valueStr[:idxOfYi])*1e8)\n",
    "    elif idxOfYi == -1 and idxOfWan != -1:\n",
    "        return int(float(valueStr[idxOfYi+1:idxOfWan])*1e4)\n",
    "    elif idxOfYi == -1 and idxOfWan == -1 and idxOfPercentage == -1:\n",
    "        return float(valueStr)\n",
    "    elif idxOfYi == -1 and idxOfWan == -1 and idxOfPercentage != -1:\n",
    "        return float(valueStr[:idxOfPercentage])"
   ]
  },
  {
   "cell_type": "code",
   "execution_count": 5,
   "metadata": {},
   "outputs": [
    {
     "data": {
      "text/plain": [
       "14.66"
      ]
     },
     "execution_count": 5,
     "metadata": {},
     "output_type": "execute_result"
    }
   ],
   "source": [
    "str2value(\"14.66\")"
   ]
  },
  {
   "cell_type": "code",
   "execution_count": 27,
   "metadata": {},
   "outputs": [],
   "source": [
    "import akshare as ak\n",
    "import pandas as pd\n",
    "import numpy as np"
   ]
  },
  {
   "cell_type": "code",
   "execution_count": 28,
   "metadata": {},
   "outputs": [],
   "source": [
    "df = ak.stock_individual_fund_flow_rank(indicator=\"今日\")"
   ]
  },
  {
   "cell_type": "code",
   "execution_count": 29,
   "metadata": {},
   "outputs": [
    {
     "data": {
      "text/html": [
       "<div>\n",
       "<style scoped>\n",
       "    .dataframe tbody tr th:only-of-type {\n",
       "        vertical-align: middle;\n",
       "    }\n",
       "\n",
       "    .dataframe tbody tr th {\n",
       "        vertical-align: top;\n",
       "    }\n",
       "\n",
       "    .dataframe thead th {\n",
       "        text-align: right;\n",
       "    }\n",
       "</style>\n",
       "<table border=\"1\" class=\"dataframe\">\n",
       "  <thead>\n",
       "    <tr style=\"text-align: right;\">\n",
       "      <th></th>\n",
       "      <th>序号</th>\n",
       "      <th>代码</th>\n",
       "      <th>名称</th>\n",
       "      <th>最新价</th>\n",
       "      <th>今日涨跌幅</th>\n",
       "      <th>今日主力净流入-净额</th>\n",
       "      <th>今日主力净流入-净占比</th>\n",
       "      <th>今日超大单净流入-净额</th>\n",
       "      <th>今日超大单净流入-净占比</th>\n",
       "      <th>今日大单净流入-净额</th>\n",
       "      <th>今日大单净流入-净占比</th>\n",
       "      <th>今日中单净流入-净额</th>\n",
       "      <th>今日中单净流入-净占比</th>\n",
       "      <th>今日小单净流入-净额</th>\n",
       "      <th>今日小单净流入-净占比</th>\n",
       "    </tr>\n",
       "  </thead>\n",
       "  <tbody>\n",
       "    <tr>\n",
       "      <th>5158</th>\n",
       "      <td>5159</td>\n",
       "      <td>000612</td>\n",
       "      <td>焦作万方</td>\n",
       "      <td>7.83</td>\n",
       "      <td>-3.93</td>\n",
       "      <td>-98390923.0</td>\n",
       "      <td>-17.78</td>\n",
       "      <td>-111892660.0</td>\n",
       "      <td>-20.22</td>\n",
       "      <td>13501737.0</td>\n",
       "      <td>2.44</td>\n",
       "      <td>32764090.0</td>\n",
       "      <td>5.92</td>\n",
       "      <td>65626834.0</td>\n",
       "      <td>11.86</td>\n",
       "    </tr>\n",
       "  </tbody>\n",
       "</table>\n",
       "</div>"
      ],
      "text/plain": [
       "        序号      代码    名称   最新价 今日涨跌幅  今日主力净流入-净额 今日主力净流入-净占比  今日超大单净流入-净额  \\\n",
       "5158  5159  000612  焦作万方  7.83 -3.93 -98390923.0      -17.78 -111892660.0   \n",
       "\n",
       "     今日超大单净流入-净占比  今日大单净流入-净额 今日大单净流入-净占比  今日中单净流入-净额 今日中单净流入-净占比  今日小单净流入-净额  \\\n",
       "5158       -20.22  13501737.0        2.44  32764090.0        5.92  65626834.0   \n",
       "\n",
       "     今日小单净流入-净占比  \n",
       "5158       11.86  "
      ]
     },
     "execution_count": 29,
     "metadata": {},
     "output_type": "execute_result"
    }
   ],
   "source": [
    "df[df['代码'] == '000612']"
   ]
  },
  {
   "cell_type": "code",
   "execution_count": null,
   "metadata": {},
   "outputs": [],
   "source": []
  }
 ],
 "metadata": {
  "kernelspec": {
   "display_name": "fin",
   "language": "python",
   "name": "python3"
  },
  "language_info": {
   "codemirror_mode": {
    "name": "ipython",
    "version": 3
   },
   "file_extension": ".py",
   "mimetype": "text/x-python",
   "name": "python",
   "nbconvert_exporter": "python",
   "pygments_lexer": "ipython3",
   "version": "3.9.18"
  },
  "orig_nbformat": 4
 },
 "nbformat": 4,
 "nbformat_minor": 2
}
