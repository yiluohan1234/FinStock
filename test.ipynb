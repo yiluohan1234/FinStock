{
 "cells": [
  {
   "cell_type": "code",
   "execution_count": 4,
   "metadata": {},
   "outputs": [],
   "source": [
    "def str2value(valueStr):\n",
    "    valueStr = str(valueStr)\n",
    "    idxOfYi = valueStr.find('亿')\n",
    "    idxOfWan = valueStr.find('万')\n",
    "    idxOfPercentage = valueStr.find('%')\n",
    "    if idxOfYi != -1 and idxOfWan != -1:\n",
    "        return int(float(valueStr[:idxOfYi])*1e8 + float(valueStr[idxOfYi+1:idxOfWan])*1e4)\n",
    "    elif idxOfYi != -1 and idxOfWan == -1:\n",
    "        return int(float(valueStr[:idxOfYi])*1e8)\n",
    "    elif idxOfYi == -1 and idxOfWan != -1:\n",
    "        return int(float(valueStr[idxOfYi+1:idxOfWan])*1e4)\n",
    "    elif idxOfYi == -1 and idxOfWan == -1 and idxOfPercentage == -1:\n",
    "        return float(valueStr)\n",
    "    elif idxOfYi == -1 and idxOfWan == -1 and idxOfPercentage != -1:\n",
    "        return float(valueStr[:idxOfPercentage])"
   ]
  },
  {
   "cell_type": "code",
   "execution_count": 5,
   "metadata": {},
   "outputs": [
    {
     "data": {
      "text/plain": [
       "14.66"
      ]
     },
     "execution_count": 5,
     "metadata": {},
     "output_type": "execute_result"
    }
   ],
   "source": [
    "str2value(\"14.66\")"
   ]
  },
  {
   "cell_type": "code",
   "execution_count": 7,
   "metadata": {},
   "outputs": [],
   "source": [
    "import akshare as ak\n",
    "import pandas as pd"
   ]
  },
  {
   "cell_type": "code",
   "execution_count": 12,
   "metadata": {},
   "outputs": [],
   "source": [
    "df = ak.stock_zh_a_minute(symbol=\"sz000612\", period=\"15\", adjust=\"qfq\")\n",
    "df.columns = ['date', 'open', 'high', 'low', 'close', 'volume', ]\n",
    "df['volume'] = round(df['volume'].astype('float') / 10000, 2)"
   ]
  },
  {
   "cell_type": "code",
   "execution_count": 18,
   "metadata": {},
   "outputs": [],
   "source": [
    "df = df[df['date'].str.contains(\"2024-05-09\")]"
   ]
  },
  {
   "cell_type": "code",
   "execution_count": null,
   "metadata": {},
   "outputs": [],
   "source": []
  }
 ],
 "metadata": {
  "kernelspec": {
   "display_name": "fin",
   "language": "python",
   "name": "python3"
  },
  "language_info": {
   "codemirror_mode": {
    "name": "ipython",
    "version": 3
   },
   "file_extension": ".py",
   "mimetype": "text/x-python",
   "name": "python",
   "nbconvert_exporter": "python",
   "pygments_lexer": "ipython3",
   "version": "3.9.18"
  },
  "orig_nbformat": 4
 },
 "nbformat": 4,
 "nbformat_minor": 2
}
