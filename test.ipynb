{
 "cells": [
  {
   "cell_type": "code",
   "execution_count": 1,
   "metadata": {},
   "outputs": [],
   "source": [
    "def str2value(valueStr):\n",
    "    valueStr = str(valueStr)\n",
    "    idxOfYi = valueStr.find('亿')\n",
    "    idxOfWan = valueStr.find('万')\n",
    "    idxOfPercentage = valueStr.find('%')\n",
    "    if idxOfYi != -1 and idxOfWan != -1:\n",
    "        return int(float(valueStr[:idxOfYi])*1e8 + float(valueStr[idxOfYi+1:idxOfWan])*1e4)\n",
    "    elif idxOfYi != -1 and idxOfWan == -1:\n",
    "        return int(float(valueStr[:idxOfYi])*1e8)\n",
    "    elif idxOfYi == -1 and idxOfWan != -1:\n",
    "        return int(float(valueStr[idxOfYi+1:idxOfWan])*1e4)\n",
    "    elif idxOfYi == -1 and idxOfWan == -1 and idxOfPercentage == -1:\n",
    "        return float(valueStr)\n",
    "    elif idxOfYi == -1 and idxOfWan == -1 and idxOfPercentage != -1:\n",
    "        return float(valueStr[:idxOfPercentage])"
   ]
  },
  {
   "cell_type": "code",
   "execution_count": 2,
   "metadata": {},
   "outputs": [
    {
     "data": {
      "text/plain": "14.66"
     },
     "execution_count": 2,
     "metadata": {},
     "output_type": "execute_result"
    }
   ],
   "source": [
    "str2value(\"14.66\")"
   ]
  },
  {
   "cell_type": "code",
   "execution_count": 6,
   "metadata": {},
   "outputs": [],
   "source": [
    "import akshare as ak\n",
    "import pandas as pd\n",
    "import numpy as np"
   ]
  },
  {
   "cell_type": "code",
   "execution_count": 4,
   "metadata": {},
   "outputs": [],
   "source": [
    "df = ak.stock_individual_fund_flow_rank(indicator=\"今日\")"
   ]
  },
  {
   "cell_type": "code",
   "execution_count": 7,
   "metadata": {},
   "outputs": [],
   "source": [
    "# df[df['代码'] == '000612']"
   ]
  },
  {
   "cell_type": "code",
   "execution_count": 32,
   "outputs": [
    {
     "name": "stderr",
     "output_type": "stream",
     "text": [
      "                                                                                                                       \r"
     ]
    }
   ],
   "source": [
    "df = ak.stock_hsgt_hist_em(\"北向资金\")\n"
   ],
   "metadata": {
    "collapsed": false,
    "pycharm": {
     "name": "#%%\n"
    }
   }
  },
  {
   "cell_type": "code",
   "execution_count": 36,
   "outputs": [],
   "source": [
    "from datetime import datetime\n",
    "df = df.loc[(df['日期'].astype(str) >= datetime.strptime('20240428', '%Y%m%d').strftime(\"%Y-%m-%d\")) & (df['日期'].astype(str) <= datetime.strptime('20240508', '%Y%m%d').strftime(\"%Y-%m-%d\"))]"
   ],
   "metadata": {
    "collapsed": false,
    "pycharm": {
     "name": "#%%\n"
    }
   }
  },
  {
   "cell_type": "code",
   "execution_count": 37,
   "outputs": [
    {
     "data": {
      "text/plain": "              日期   当日成交净买额     买入成交额     卖出成交额   历史累计净买额    当日资金流入       当日余额  \\\n2190  2024-04-29  108.9240  976.9063  867.9823  1.851162  135.7430   904.2570   \n2191  2024-04-30  -86.1666  762.7245  848.8911  1.842545  -63.3073  1103.3073   \n2192  2024-05-06   93.1567  988.8558  895.6991  1.851861  120.7367   919.2633   \n2193  2024-05-07  -21.3990  670.1303  691.5293  1.849721   -0.9015  1040.9015   \n2194  2024-05-08  -40.4425  599.6053  640.0478  1.845677  -15.4927  1055.4927   \n\n              持股市值   领涨股  领涨股-涨跌幅    沪深300  沪深300-涨跌幅     领涨股-代码  \n2190  2.226577e+12  国盛金控    10.04  3113.04       0.79  002670.SZ  \n2191  2.210547e+12  百川股份    10.00  3104.82      -0.26  002455.SZ  \n2192  2.259767e+12  广深铁路    10.12  3140.72       1.16  601333.SH  \n2193  2.259056e+12  百川股份    10.02  3147.74       0.22  002455.SZ  \n2194  2.234877e+12  百川股份    10.05  3128.48      -0.61  002455.SZ  ",
      "text/html": "<div>\n<style scoped>\n    .dataframe tbody tr th:only-of-type {\n        vertical-align: middle;\n    }\n\n    .dataframe tbody tr th {\n        vertical-align: top;\n    }\n\n    .dataframe thead th {\n        text-align: right;\n    }\n</style>\n<table border=\"1\" class=\"dataframe\">\n  <thead>\n    <tr style=\"text-align: right;\">\n      <th></th>\n      <th>日期</th>\n      <th>当日成交净买额</th>\n      <th>买入成交额</th>\n      <th>卖出成交额</th>\n      <th>历史累计净买额</th>\n      <th>当日资金流入</th>\n      <th>当日余额</th>\n      <th>持股市值</th>\n      <th>领涨股</th>\n      <th>领涨股-涨跌幅</th>\n      <th>沪深300</th>\n      <th>沪深300-涨跌幅</th>\n      <th>领涨股-代码</th>\n    </tr>\n  </thead>\n  <tbody>\n    <tr>\n      <th>2190</th>\n      <td>2024-04-29</td>\n      <td>108.9240</td>\n      <td>976.9063</td>\n      <td>867.9823</td>\n      <td>1.851162</td>\n      <td>135.7430</td>\n      <td>904.2570</td>\n      <td>2.226577e+12</td>\n      <td>国盛金控</td>\n      <td>10.04</td>\n      <td>3113.04</td>\n      <td>0.79</td>\n      <td>002670.SZ</td>\n    </tr>\n    <tr>\n      <th>2191</th>\n      <td>2024-04-30</td>\n      <td>-86.1666</td>\n      <td>762.7245</td>\n      <td>848.8911</td>\n      <td>1.842545</td>\n      <td>-63.3073</td>\n      <td>1103.3073</td>\n      <td>2.210547e+12</td>\n      <td>百川股份</td>\n      <td>10.00</td>\n      <td>3104.82</td>\n      <td>-0.26</td>\n      <td>002455.SZ</td>\n    </tr>\n    <tr>\n      <th>2192</th>\n      <td>2024-05-06</td>\n      <td>93.1567</td>\n      <td>988.8558</td>\n      <td>895.6991</td>\n      <td>1.851861</td>\n      <td>120.7367</td>\n      <td>919.2633</td>\n      <td>2.259767e+12</td>\n      <td>广深铁路</td>\n      <td>10.12</td>\n      <td>3140.72</td>\n      <td>1.16</td>\n      <td>601333.SH</td>\n    </tr>\n    <tr>\n      <th>2193</th>\n      <td>2024-05-07</td>\n      <td>-21.3990</td>\n      <td>670.1303</td>\n      <td>691.5293</td>\n      <td>1.849721</td>\n      <td>-0.9015</td>\n      <td>1040.9015</td>\n      <td>2.259056e+12</td>\n      <td>百川股份</td>\n      <td>10.02</td>\n      <td>3147.74</td>\n      <td>0.22</td>\n      <td>002455.SZ</td>\n    </tr>\n    <tr>\n      <th>2194</th>\n      <td>2024-05-08</td>\n      <td>-40.4425</td>\n      <td>599.6053</td>\n      <td>640.0478</td>\n      <td>1.845677</td>\n      <td>-15.4927</td>\n      <td>1055.4927</td>\n      <td>2.234877e+12</td>\n      <td>百川股份</td>\n      <td>10.05</td>\n      <td>3128.48</td>\n      <td>-0.61</td>\n      <td>002455.SZ</td>\n    </tr>\n  </tbody>\n</table>\n</div>"
     },
     "execution_count": 37,
     "metadata": {},
     "output_type": "execute_result"
    }
   ],
   "source": [
    "df\n"
   ],
   "metadata": {
    "collapsed": false,
    "pycharm": {
     "name": "#%%\n"
    }
   }
  },
  {
   "cell_type": "code",
   "execution_count": 35,
   "outputs": [
    {
     "data": {
      "text/plain": "'2024-04-28'"
     },
     "execution_count": 35,
     "metadata": {},
     "output_type": "execute_result"
    }
   ],
   "source": [
    "datetime.strptime('20240428', '%Y%m%d').strftime(\"%Y-%m-%d\")\n"
   ],
   "metadata": {
    "collapsed": false,
    "pycharm": {
     "name": "#%%\n"
    }
   }
  },
  {
   "cell_type": "code",
   "execution_count": null,
   "outputs": [],
   "source": [],
   "metadata": {
    "collapsed": false,
    "pycharm": {
     "name": "#%%\n"
    }
   }
  }
 ],
 "metadata": {
  "kernelspec": {
   "display_name": "fin",
   "language": "python",
   "name": "python3"
  },
  "language_info": {
   "codemirror_mode": {
    "name": "ipython",
    "version": 3
   },
   "file_extension": ".py",
   "mimetype": "text/x-python",
   "name": "python",
   "nbconvert_exporter": "python",
   "pygments_lexer": "ipython3",
   "version": "3.9.18"
  },
  "orig_nbformat": 4
 },
 "nbformat": 4,
 "nbformat_minor": 2
}